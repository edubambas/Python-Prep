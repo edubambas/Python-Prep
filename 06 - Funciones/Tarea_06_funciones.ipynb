{
 "cells": [
  {
   "cell_type": "markdown",
   "metadata": {},
   "source": [
    "FUNCIONES"
   ]
  },
  {
   "cell_type": "markdown",
   "metadata": {},
   "source": [
    "1) Crear una función que reciba un número como parámetro y devuelva si True si es primo y False si no lo es"
   ]
  },
  {
   "cell_type": "code",
   "execution_count": 38,
   "metadata": {},
   "outputs": [
    {
     "data": {
      "text/plain": [
       "True"
      ]
     },
     "execution_count": 38,
     "metadata": {},
     "output_type": "execute_result"
    }
   ],
   "source": [
    "\n",
    "def esprimo(n):\n",
    "    if (n==2 or n==3):\n",
    "        return True\n",
    "    for i in range(2,n//2+1):\n",
    "        if (n%i==0):\n",
    "            return False\n",
    "            break\n",
    "    return True\n",
    "esprimo(3)\n"
   ]
  },
  {
   "cell_type": "code",
   "execution_count": 41,
   "metadata": {},
   "outputs": [
    {
     "data": {
      "text/plain": [
       "True"
      ]
     },
     "execution_count": 41,
     "metadata": {},
     "output_type": "execute_result"
    }
   ],
   "source": [
    "#quizá queda más prolijo introduciendo una variable booleana\n",
    "\n",
    "def esprimo2(n):\n",
    "    esp=True\n",
    "    if (n==2 or n==3):\n",
    "        return esp\n",
    "    for i in range(2,n//2+1):\n",
    "        if (n%i==0):\n",
    "            esp=False\n",
    "            break\n",
    "    return esp\n",
    "esprimo2(5)\n"
   ]
  },
  {
   "cell_type": "markdown",
   "metadata": {},
   "source": [
    "2) Utilizando la función del punto 1, realizar otra función que reciba de parámetro una lista de números y devuelva sólo aquellos que son primos en otra lista"
   ]
  },
  {
   "cell_type": "code",
   "execution_count": 23,
   "metadata": {},
   "outputs": [
    {
     "data": {
      "text/plain": [
       "[1, 2, 3, 5, 7, 11]"
      ]
     },
     "execution_count": 23,
     "metadata": {},
     "output_type": "execute_result"
    }
   ],
   "source": [
    "def filtraprimos(l):\n",
    "    primos=[i for i in l if (esprimo(i)==True)]\n",
    "    return primos\n",
    "filtraprimos([1,2,3,4,5,6,7,8,9,10,11,12])"
   ]
  },
  {
   "cell_type": "markdown",
   "metadata": {},
   "source": [
    "3) Crear una función que al recibir una lista de números, devuelva el que más se repite y cuántas veces lo hace. Si hay más de un \"más repetido\", que devuelva cualquiera"
   ]
  },
  {
   "cell_type": "code",
   "execution_count": 45,
   "metadata": {},
   "outputs": [
    {
     "data": {
      "text/plain": [
       "(2, 8)"
      ]
     },
     "execution_count": 45,
     "metadata": {},
     "output_type": "execute_result"
    }
   ],
   "source": [
    "\n",
    "def moda(l):\n",
    "    frec=0\n",
    "    for i in l:\n",
    "        f=l.count(i)\n",
    "        if (f>frec):\n",
    "            frec=f\n",
    "            modal=i\n",
    "    return modal,frec \n",
    "moda([1,2,2,2,3,4,5,6,7,6,5,3,7,9,6,3,2,2,4,6,9,0,9,8,6,4,3,2,3,4,6,7,8,6,5,4,3,2,2,4,5,6,9,9,3])"
   ]
  },
  {
   "cell_type": "markdown",
   "metadata": {},
   "source": [
    "4) A la función del punto 3, agregar un parámetro más, que permita elegir si se requiere el menor o el mayor de los mas repetidos.\n",
    "\n"
   ]
  },
  {
   "cell_type": "code",
   "execution_count": 69,
   "metadata": {},
   "outputs": [
    {
     "data": {
      "text/plain": [
       "(4, 4)"
      ]
     },
     "execution_count": 69,
     "metadata": {},
     "output_type": "execute_result"
    }
   ],
   "source": [
    "\n",
    "def moda(l,p):\n",
    "    \"\"\"\n",
    "    A esta función se la llama con una lista \"l\" como primer argumento y entrega el valor modal de la lista y su frecuencia.\n",
    "    De haber más de un valor modal, el segundo argumento \"p\" puede ser:\n",
    "                                                                        \"0\" y se devuelve la moda de menor valor.\n",
    "                                                                        \"1\" y se devuelve la moda de mayor valor.\n",
    "    \"\"\"  \n",
    "    frec=0\n",
    "    mf=[]\n",
    "    for i in l:\n",
    "        f=l.count(i)\n",
    "        if (f>frec):\n",
    "            frec=f\n",
    "        \n",
    "    for i in l:\n",
    "        f=l.count(i)\n",
    "        if (frec==f):\n",
    "            mf.append(i)\n",
    "    mf.sort()\n",
    "    L=len(mf)\n",
    "    if (p==1):\n",
    "        return mf[L-1],frec\n",
    "    elif (p==0):\n",
    "        return mf[0],frec\n",
    "            \n",
    "moda([1,1,1,1,2,2,3,3,3,4,4,4,4,5,5,6],1)\n",
    "\n",
    "\n"
   ]
  },
  {
   "cell_type": "markdown",
   "metadata": {},
   "source": [
    "5) Crear una función que convierta entre grados Celsius, Farenheit y Kelvin\n",
    "Fórmula 1 : (°C × 9/5) + 32 = °F\n",
    "Fórmula 2 : °C + 273.15 = °K\n",
    "Debe recibir 3 parámetros: el valor, la medida de orígen y la medida de destino\n",
    "\n"
   ]
  },
  {
   "cell_type": "code",
   "execution_count": 117,
   "metadata": {},
   "outputs": [
    {
     "data": {
      "text/plain": [
       "-273.15"
      ]
     },
     "execution_count": 117,
     "metadata": {},
     "output_type": "execute_result"
    }
   ],
   "source": [
    "def convtemp(t,x,y):\n",
    "    \"\"\"\n",
    "    Esta función convierte el valor de temperatura \"t\" desde la unidad \"x\" a la unnidad \"y\".\n",
    "    Las unidades que maneja son Celcius, Farenheit ó Kelvin.\n",
    "    Las unidades se introducen en el argumento como strings \"c\", \"f\", ó \"k\".\n",
    "    \"\"\"\n",
    "    if (x==\"c\" and y==\"k\"):\n",
    "        return t+273.15\n",
    "    elif(x==\"k\" and y==\"c\"):\n",
    "        return t-273.15\n",
    "    elif(x==\"c\" and y==\"f\"):\n",
    "        return t*9/5+32\n",
    "    elif(x==\"f\" and y==\"c\"):\n",
    "        return (t-32)*5/9\n",
    "    elif(x==\"f\" and y==\"k\"):\n",
    "        return (t-32)*5/9+273.15\n",
    "    elif(x==\"k\" and y==\"f\"):\n",
    "        return (t-273.15)*9/5+32\n",
    "\n",
    "\n",
    "convtemp(0,\"k\",\"c\")"
   ]
  },
  {
   "cell_type": "code",
   "execution_count": 124,
   "metadata": {},
   "outputs": [
    {
     "data": {
      "text/plain": [
       "-273.15"
      ]
     },
     "execution_count": 124,
     "metadata": {},
     "output_type": "execute_result"
    }
   ],
   "source": [
    "#ya que estamos probemos la recursividad:\n",
    "def convtemp2(t,x,y):\n",
    "    \"\"\"\n",
    "    Esta función convierte el valor de temperatura \"t\" desde la unidad \"x\" a la unnidad \"y\".\n",
    "    Las unidades que maneja son Celcius, Farenheit ó Kelvin.\n",
    "    Las unidades se introducen en el argumento como strings \"c\", \"f\", ó \"k\".\n",
    "    \"\"\"\n",
    "    if (x==\"c\" and y==\"k\"):\n",
    "        return t+273.15\n",
    "    elif(x==\"k\" and y==\"c\"):\n",
    "        return t-273.15\n",
    "    elif(x==\"c\" and y==\"f\"):\n",
    "        return t*9/5+32\n",
    "    elif(x==\"f\" and y==\"c\"):\n",
    "        return (t-32)*5/9\n",
    "    elif(x==\"f\" and y==\"k\"):\n",
    "        return convtemp2(convtemp2(t,\"f\",\"c\"),\"c\",\"k\")\n",
    "    elif(x==\"k\" and y==\"f\"):\n",
    "        return convtemp2(convtemp2(t,\"k\",\"c\"),\"c\",\"f\")\n",
    "\n",
    "convtemp2(0,\"k\",\"c\")\n"
   ]
  },
  {
   "cell_type": "markdown",
   "metadata": {},
   "source": [
    "6) Iterando una lista con los tres valores posibles de temperatura que recibe la función del punto 5, hacer un print para cada combinación de los mismos:"
   ]
  },
  {
   "cell_type": "code",
   "execution_count": 98,
   "metadata": {},
   "outputs": [
    {
     "name": "stdout",
     "output_type": "stream",
     "text": [
      "Un grado en unidades de  c  son  274.15  grados en unidades de  k\n",
      "Un grado en unidades de  k  son  -272.15  grados en unidades de  c\n",
      "Un grado en unidades de  c  son  33.8  grados en unidades de  f\n",
      "Un grado en unidades de  f  son  -17.22222222222222  grados en unidades de  c\n",
      "Un grado en unidades de  k  son  -457.87  grados en unidades de  f\n",
      "Un grado en unidades de  f  son  255.92777777777775  grados en unidades de  k\n"
     ]
    }
   ],
   "source": [
    "#vamos a hacer para un valor \"1\" de temperatura \"t\"en todos los casos.\n",
    "u=[\"c\",\"k\",\"f\"]\n",
    "\n",
    "for i in range(0,3):\n",
    "    for j in range(i+1,3):\n",
    "        print(\"Un grado en unidades de \",u[i],\" son \",convtemp2(1,u[i],u[j]),\" grados en unidades de \",u[j])\n",
    "        print(\"Un grado en unidades de \",u[j],\" son \",convtemp2(1,u[j],u[i]),\" grados en unidades de \",u[i])"
   ]
  },
  {
   "cell_type": "markdown",
   "metadata": {},
   "source": [
    "7) Armar una función que devuelva el factorial de un número. Tener en cuenta que el usuario puede equivocarse y enviar de parámetro un número no entero o negativo"
   ]
  },
  {
   "cell_type": "code",
   "execution_count": 125,
   "metadata": {},
   "outputs": [
    {
     "data": {
      "text/plain": [
       "3628800"
      ]
     },
     "execution_count": 125,
     "metadata": {},
     "output_type": "execute_result"
    }
   ],
   "source": [
    "def factorial(n):\n",
    "    \"\"\"\n",
    "    A esta función devuelve el factorial de \"n\", siendo este un número natural.\n",
    "\n",
    "    El factorial de un número n puede expresarse como:\n",
    "    n!=n*(n-1)*(n-2)*...*(2)*(1)\n",
    "    \"\"\"\n",
    "    f=1\n",
    "    if (n==int(n) and n>=0): #Esto es para que la función me admita enteros de tipo flotante\n",
    "        n=int(n)\n",
    "        if (n==0):\n",
    "            return 1\n",
    "        else:\n",
    "            for i in range(1,n+1):\n",
    "                f=f*i\n",
    "            return f\n",
    "    else:\n",
    "        print(\"el argumento n de la función factorial(n) debe ser un número entero no negativo.\")\n",
    "factorial(10)\n"
   ]
  },
  {
   "cell_type": "code",
   "execution_count": 130,
   "metadata": {},
   "outputs": [
    {
     "data": {
      "text/plain": [
       "120"
      ]
     },
     "execution_count": 130,
     "metadata": {},
     "output_type": "execute_result"
    }
   ],
   "source": [
    "#y podemos practicar recursividad:\n",
    "def factorialR(n):\n",
    "    \"\"\"\n",
    "    A esta función devuelve el factorial de \"n\", siendo este un número natural.\n",
    "\n",
    "    El factorial de un número n puede expresarse como:\n",
    "    n!=n*(n-1)*(n-2)*...*(2)*(1)\n",
    "    \"\"\"\n",
    "    f=1\n",
    "    if (n==int(n) and n>=0): #Esto es para que la función me admita enteros de tipo flotante\n",
    "        n=int(n)\n",
    "        if (n==0):\n",
    "            return 1\n",
    "        else:\n",
    "            f=n*factorialR(n-1)\n",
    "            return f\n",
    "    else:\n",
    "        print(\"el argumento n de la función factorial(n) debe ser un número entero no negativo.\")\n",
    "factorialR(5.0)\n"
   ]
  }
 ],
 "metadata": {
  "kernelspec": {
   "display_name": "Python 3.10.5 64-bit",
   "language": "python",
   "name": "python3"
  },
  "language_info": {
   "codemirror_mode": {
    "name": "ipython",
    "version": 3
   },
   "file_extension": ".py",
   "mimetype": "text/x-python",
   "name": "python",
   "nbconvert_exporter": "python",
   "pygments_lexer": "ipython3",
   "version": "3.10.5"
  },
  "orig_nbformat": 4,
  "vscode": {
   "interpreter": {
    "hash": "c8d5dde865f82bd653c7725d111766f13bb8a99fe634eed82199ee6c50c94b13"
   }
  }
 },
 "nbformat": 4,
 "nbformat_minor": 2
}
