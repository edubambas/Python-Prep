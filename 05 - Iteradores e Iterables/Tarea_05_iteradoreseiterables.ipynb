{
 "cells": [
  {
   "cell_type": "markdown",
   "metadata": {},
   "source": [
    "ITERADORES E ITERABLES"
   ]
  },
  {
   "cell_type": "markdown",
   "metadata": {},
   "source": [
    "1) A partir de una lista vacía, utilizar un ciclo while para cargar allí números negativos del -15 al -1\n",
    "\n"
   ]
  },
  {
   "cell_type": "code",
   "execution_count": 30,
   "metadata": {},
   "outputs": [
    {
     "name": "stdout",
     "output_type": "stream",
     "text": [
      "[-15, -14, -13, -12, -11, -10, -9, -8, -7, -6, -5, -4, -3, -2, -1]\n",
      "[-15, -14, -13, -12, -11, -10, -9, -8, -7, -6, -5, -4, -3, -2, -1]\n",
      "[-15, -14, -13, -12, -11, -10, -9, -8, -7, -6, -5, -4, -3, -2, -1]\n"
     ]
    }
   ],
   "source": [
    "#El modo más rápido que se me ocurre:\n",
    "list1=list(range(-15,0))\n",
    "print(list1)\n",
    "\n",
    "#pero eso no fue a partir de una lista vacía, vamos a partir de una lista vacía y usando un while:\n",
    "list1A=[]\n",
    "i=-15\n",
    "while (i!=0):\n",
    "    list1A.append(i)\n",
    "    i+=1\n",
    "print(list1A)\n",
    "\n",
    "#sino con un for\n",
    "list1B=[]\n",
    "for i in range(-15,0):\n",
    "    list1B.append(i)\n",
    "print(list1B)"
   ]
  },
  {
   "cell_type": "markdown",
   "metadata": {},
   "source": [
    "2) ¿Con un ciclo while sería posible recorrer la lista para imprimir sólo los números pares?"
   ]
  },
  {
   "cell_type": "code",
   "execution_count": 31,
   "metadata": {},
   "outputs": [
    {
     "name": "stdout",
     "output_type": "stream",
     "text": [
      "-14\n",
      "-12\n",
      "-10\n",
      "-8\n",
      "-6\n",
      "-4\n",
      "-2\n"
     ]
    }
   ],
   "source": [
    "i=0\n",
    "l=len(list1)\n",
    "while (i<l):\n",
    "    if (list1[i]%2==0):\n",
    "        print(list1[i])\n",
    "    i+=1"
   ]
  },
  {
   "cell_type": "markdown",
   "metadata": {},
   "source": [
    "3) Resolver el punto anterior sin utilizar un ciclo while."
   ]
  },
  {
   "cell_type": "code",
   "execution_count": 17,
   "metadata": {},
   "outputs": [
    {
     "name": "stdout",
     "output_type": "stream",
     "text": [
      "-14\n",
      "-12\n",
      "-10\n",
      "-8\n",
      "-6\n",
      "-4\n",
      "-2\n",
      "[-14, -12, -10, -8, -6, -4, -2]\n"
     ]
    }
   ],
   "source": [
    "for i in list1:\n",
    "    if (i%2==0):\n",
    "        print(i)\n",
    "\n",
    "        #otro modo, pero me lo devuelve en una lista\n",
    "listpares=[i for i in list1 if (i%2==0)]\n",
    "print(listpares)\n"
   ]
  },
  {
   "cell_type": "markdown",
   "metadata": {},
   "source": [
    "4) Utilizar el iterable para recorrer sólo los primeros 3 elementos."
   ]
  },
  {
   "cell_type": "code",
   "execution_count": 32,
   "metadata": {},
   "outputs": [
    {
     "name": "stdout",
     "output_type": "stream",
     "text": [
      "-15\n",
      "-14\n",
      "-13\n",
      "[-15, -14, -13]\n",
      "-15\n",
      "-14\n",
      "-13\n"
     ]
    }
   ],
   "source": [
    "for i in list1:\n",
    "    if (list1.index(i)<3):\n",
    "        print(i)\n",
    "\n",
    "#otro modo pero me lo devuelve en una lista\n",
    "list3=[i for i in list1 if (list1.index(i)<3)]\n",
    "print(list3)\n",
    "\n",
    "#pero lo mejor simple es:\n",
    "for i in list1[:3]:\n",
    "    print(i)"
   ]
  },
  {
   "cell_type": "markdown",
   "metadata": {},
   "source": [
    "5) Utilizar la función enumerate para obtener dentro del iterable, tambien el índice al que corresponde el elemento."
   ]
  },
  {
   "cell_type": "code",
   "execution_count": 24,
   "metadata": {},
   "outputs": [
    {
     "name": "stdout",
     "output_type": "stream",
     "text": [
      "0 -15\n",
      "1 -14\n",
      "2 -13\n",
      "3 -12\n",
      "4 -11\n",
      "5 -10\n",
      "6 -9\n",
      "7 -8\n",
      "8 -7\n",
      "9 -6\n",
      "10 -5\n",
      "11 -4\n",
      "12 -3\n",
      "13 -2\n",
      "14 -1\n"
     ]
    }
   ],
   "source": [
    "for i,j in enumerate(list1):\n",
    "    print(i,j)"
   ]
  },
  {
   "cell_type": "markdown",
   "metadata": {},
   "source": [
    "6) Dada la siguiente lista de números enteros entre 1 y 20, crear un ciclo donde se completen los valores faltantes: lista = [1,2,5,7,8,10,13,14,15,17,20]."
   ]
  },
  {
   "cell_type": "code",
   "execution_count": 40,
   "metadata": {},
   "outputs": [
    {
     "name": "stdout",
     "output_type": "stream",
     "text": [
      "[1, 2, 3, 4, 5, 6, 7, 8, 9, 10, 11, 12, 13, 14, 15, 16, 17, 18, 19, 20]\n",
      "[1, 2, 3, 4, 5, 6, 7, 8, 9, 10, 11, 12, 13, 14, 15, 16, 17, 18, 19, 20]\n",
      "[1, 2, 3, 4, 5, 6, 7, 8, 9, 10, 11, 12, 13, 14, 15, 16, 17, 18, 19, 20]\n",
      "[1, 2, 3, 4, 5, 6, 7, 8, 9, 10, 11, 12, 13, 14, 15, 16, 17, 18, 19, 20]\n"
     ]
    }
   ],
   "source": [
    "lista6=[1,2,5,7,8,10,13,14,15,17,20]\n",
    "i=1\n",
    "while (i<=20):\n",
    "    if (not(i in lista6)):\n",
    "        lista6.append(i)\n",
    "    i+=1\n",
    "lista6.sort()\n",
    "print(lista6)\n",
    "\n",
    "#otro modo sin sort:\n",
    "lista6=[1,2,5,7,8,10,13,14,15,17,20]\n",
    "i=1\n",
    "while (i<=20):\n",
    "    if (not(i in lista6)):\n",
    "        lista6.insert(i-1,i)\n",
    "    i+=1\n",
    "print(lista6)\n",
    "\n",
    "#otro modo con for:\n",
    "lista6=[1,2,5,7,8,10,13,14,15,17,20]\n",
    "for i in range(1,21):\n",
    "    if (not(i in lista6)):\n",
    "        lista6.insert(i-1,i)\n",
    "print(lista6)\n",
    "\n",
    "#otro modo generando una lista con los faltantes, concatenando y ordenando.\n",
    "lista6=[1,2,5,7,8,10,13,14,15,17,20]\n",
    "lista7=[i for i in range(1,21) if (not(i in lista6))]\n",
    "lista6.extend(lista7)\n",
    "lista6.sort()\n",
    "print(lista6)"
   ]
  },
  {
   "cell_type": "markdown",
   "metadata": {},
   "source": [
    "7) La sucesión de Fibonacci es un listado de números que sigue la fórmula:\n",
    "n0 = 0\n",
    "n1 = 1\n",
    "ni = ni-1 + ni-2\n",
    "Crear una lista con los primeros treinta números de la sucesión."
   ]
  },
  {
   "cell_type": "code",
   "execution_count": 42,
   "metadata": {},
   "outputs": [
    {
     "name": "stdout",
     "output_type": "stream",
     "text": [
      "[0, 1, 1, 2, 3, 5, 8, 13, 21, 34, 55, 89, 144, 233, 377, 610, 987, 1597, 2584, 4181, 6765, 10946, 17711, 28657, 46368, 75025, 121393, 196418, 317811, 514229]\n"
     ]
    }
   ],
   "source": [
    "f=[0,1]\n",
    "for i in range(2,30):\n",
    "    f.append(f[i-1]+f[i-2])\n",
    "print(f)\n"
   ]
  },
  {
   "cell_type": "markdown",
   "metadata": {},
   "source": [
    "8) Realizar la suma de todos elementos de la lista del punto anterior"
   ]
  },
  {
   "cell_type": "code",
   "execution_count": 43,
   "metadata": {},
   "outputs": [
    {
     "name": "stdout",
     "output_type": "stream",
     "text": [
      "1346268\n"
     ]
    }
   ],
   "source": [
    "print(sum(f))"
   ]
  },
  {
   "cell_type": "markdown",
   "metadata": {},
   "source": [
    "9) La proporción aurea se expresa con una proporción matemática que nace el número irracional Phi= 1,618… que los griegos llamaron número áureo. El cuál se puede aproximar con la sucesión de Fibonacci. Con la lista del ejercicio anterior, imprimir el cociente de los últimos 5 pares de dos números contiguos:\n",
    "Donde i es la cantidad total de elementos\n",
    "ni-1 / ni\n",
    "ni-2 / ni-1\n",
    "ni-3 / ni-2\n",
    "ni-4 / ni-3\n",
    "ni-5 / ni-4"
   ]
  },
  {
   "cell_type": "code",
   "execution_count": 46,
   "metadata": {},
   "outputs": [
    {
     "name": "stdout",
     "output_type": "stream",
     "text": [
      "1.618033988957902\n",
      "1.6180339886704431\n",
      "1.6180339887802426\n",
      "1.618033988738303\n",
      "1.6180339887543225\n"
     ]
    }
   ],
   "source": [
    "for i in range(25,30):\n",
    "    print(f[i]/f[i-1])"
   ]
  },
  {
   "cell_type": "markdown",
   "metadata": {},
   "source": [
    "10) A partir de la variable cadena ya dada, mostrar en qué posiciones aparece la letra \"n\"\n",
    "cadena = 'Hola Mundo. Esto es una practica del lenguaje de programación Python'"
   ]
  },
  {
   "cell_type": "code",
   "execution_count": 50,
   "metadata": {},
   "outputs": [
    {
     "name": "stdout",
     "output_type": "stream",
     "text": [
      "7\n",
      "21\n",
      "39\n",
      "60\n",
      "67\n",
      "7\n",
      "21\n",
      "39\n",
      "60\n",
      "67\n"
     ]
    }
   ],
   "source": [
    "cadena = 'Hola Mundo. Esto es una practica del lenguaje de programación Python'\n",
    "ind=0\n",
    "for i in cadena:\n",
    "    if (i==\"n\"):\n",
    "        print(ind)\n",
    "    ind+=1\n",
    "\n",
    "#otro modo:\n",
    "for i,c in enumerate(cadena):\n",
    "    if (c==\"n\" or c==\"N\"):\n",
    "        print(i)"
   ]
  },
  {
   "cell_type": "markdown",
   "metadata": {},
   "source": [
    "11) Crear un diccionario e imprimir sus claves utilizando un iterador"
   ]
  },
  {
   "cell_type": "code",
   "execution_count": 55,
   "metadata": {},
   "outputs": [
    {
     "name": "stdout",
     "output_type": "stream",
     "text": [
      "clave1\n",
      "clave2\n",
      "clave3\n",
      "0 clave1\n",
      "1 clave2\n",
      "2 clave3\n"
     ]
    }
   ],
   "source": [
    "dic={\"clave1\":[1,2,3],\"clave2\":\"dos\",\"clave3\":False}\n",
    "for i in dic:\n",
    "    print(i)\n",
    "\n",
    "#para ver nomás:\n",
    "for i,j in enumerate(dic):\n",
    "    print(i,j)"
   ]
  },
  {
   "cell_type": "markdown",
   "metadata": {},
   "source": [
    "12) Convertir en una lista la variable \"cadena\" del punto 10 y luego recorrerla con un iterador"
   ]
  },
  {
   "cell_type": "code",
   "execution_count": 62,
   "metadata": {},
   "outputs": [
    {
     "name": "stdout",
     "output_type": "stream",
     "text": [
      "H\n",
      "o\n",
      "l\n",
      "a\n",
      " \n",
      "M\n",
      "u\n",
      "n\n",
      "d\n",
      "o\n",
      ".\n",
      " \n",
      "E\n",
      "s\n",
      "t\n",
      "o\n",
      " \n",
      "e\n",
      "s\n",
      " \n",
      "u\n",
      "n\n",
      "a\n",
      " \n",
      "p\n",
      "r\n",
      "a\n",
      "c\n",
      "t\n",
      "i\n",
      "c\n",
      "a\n",
      " \n",
      "d\n",
      "e\n",
      "l\n",
      " \n",
      "l\n",
      "e\n",
      "n\n",
      "g\n",
      "u\n",
      "a\n",
      "j\n",
      "e\n",
      " \n",
      "d\n",
      "e\n",
      " \n",
      "p\n",
      "r\n",
      "o\n",
      "g\n",
      "r\n",
      "a\n",
      "m\n",
      "a\n",
      "c\n",
      "i\n",
      "ó\n",
      "n\n",
      " \n",
      "P\n",
      "y\n",
      "t\n",
      "h\n",
      "o\n",
      "n\n"
     ]
    }
   ],
   "source": [
    "cadena = 'Hola Mundo. Esto es una practica del lenguaje de programación Python'\n",
    "cadena=list(cadena)\n",
    "#y ahora la recorro generando un iterador:\n",
    "iterador= iter(cadena)\n",
    "l=len(cadena)\n",
    "for i in range(0,l):\n",
    "    print(next(iterador))\n",
    "#no hacía falta convertir al strim \"cadena\" en lista para recorrerlo con el iterador"
   ]
  },
  {
   "cell_type": "markdown",
   "metadata": {},
   "source": [
    "13) Crear dos listas y unirlas en una tupla utilizando la función zip"
   ]
  },
  {
   "cell_type": "code",
   "execution_count": 64,
   "metadata": {},
   "outputs": [
    {
     "name": "stdout",
     "output_type": "stream",
     "text": [
      "[('perro', 'bueno'), ('gato', 'malo'), ('tortuga', 'lenta')]\n"
     ]
    }
   ],
   "source": [
    "l1=[\"perro\",\"gato\", \"tortuga\"]\n",
    "l2=[\"bueno\", \"malo\",\"lenta\"]\n",
    "z=zip(l1,l2)\n",
    "print(list(z))"
   ]
  },
  {
   "cell_type": "markdown",
   "metadata": {},
   "source": [
    "14) A partir de la siguiente lista de números, crear una nueva sólo si el número es divisible por 7\n",
    "lis = [18,21,29,32,35,42,56,60,63,71,84,90,91,100]"
   ]
  },
  {
   "cell_type": "code",
   "execution_count": 65,
   "metadata": {},
   "outputs": [
    {
     "name": "stdout",
     "output_type": "stream",
     "text": [
      "[21, 35, 42, 56, 63, 84, 91]\n"
     ]
    }
   ],
   "source": [
    "lis = [18,21,29,32,35,42,56,60,63,71,84,90,91,100]\n",
    "\n",
    "lis7=[i for i in lis if (i%7==0)]\n",
    "print(lis7)"
   ]
  },
  {
   "cell_type": "markdown",
   "metadata": {},
   "source": [
    "15) A partir de la lista de a continuación, contar la cantidad total de elementos que contiene, teniendo en cuenta que un elemento de la lista podría ser otra lista:\n",
    "lis = [[1,2,3,4],'rojo','verde',[True,False,False],['uno','dos','tres']]"
   ]
  },
  {
   "cell_type": "code",
   "execution_count": 81,
   "metadata": {},
   "outputs": [
    {
     "name": "stdout",
     "output_type": "stream",
     "text": [
      "5\n",
      "19\n",
      "12\n"
     ]
    }
   ],
   "source": [
    "lis = [[1,2,3,4],\"rojo\",'verde',[True,False,False],['uno','dos','tres']]\n",
    "print(len(lis)) #esto me entrega los 5 elementos de la lista lis\n",
    "#pero si quiero ver la cantidad total de elementos dentro de los elementos de lis:\n",
    "ele=0\n",
    "for i in lis:\n",
    "    ele= ele+len(i)\n",
    "print(ele)\n",
    "\n",
    "#pero tengo que tener cuidado, acá todos los elementos son iterables, pero en caso contrario me tiraría error.\n",
    "# Además está diciendo que \"rojo\" tiene 4 elementos pero es sólo un elemento strim. Mejor sería con un if:\n",
    "ele=0\n",
    "for i in lis:\n",
    "    if (type(i)==list):\n",
    "        ele= ele+len(i)\n",
    "    else:\n",
    "        ele= ele+1\n",
    "print(ele)\n"
   ]
  },
  {
   "cell_type": "markdown",
   "metadata": {},
   "source": [
    "16) Tomar la lista del punto anterior y convertir cada elemento en una lista si no lo es"
   ]
  },
  {
   "cell_type": "code",
   "execution_count": 83,
   "metadata": {},
   "outputs": [
    {
     "name": "stdout",
     "output_type": "stream",
     "text": [
      "['r', 'o', 'j', 'o']\n",
      "['v', 'e', 'r', 'd', 'e']\n",
      "[[1, 2, 3, 4], 'rojo', 'verde', [True, False, False], ['uno', 'dos', 'tres']]\n",
      "[[1, 2, 3, 4], ['rojo'], ['verde'], [True, False, False], ['uno', 'dos', 'tres']]\n"
     ]
    }
   ],
   "source": [
    "\n",
    "for i in lis:\n",
    "    if (type(i)!=list):\n",
    "        i=list(i)\n",
    "        print(i)\n",
    "print(lis)\n",
    "#Entrega los elemento como lista, pero no los convierte dentro de lis, además hace de cada letra un elemento.\n",
    "#Lo correcto sería lo siguiente:\n",
    "for i,e in enumerate(lis):\n",
    "    if (type(e)!=list):\n",
    "        lis[i]=[e]\n",
    "print(lis)\n",
    "\n",
    "#y ahí sí me convirtió a \"rojo\" y \"verde\" en listas de un sólo elemento."
   ]
  }
 ],
 "metadata": {
  "kernelspec": {
   "display_name": "Python 3.10.5 64-bit",
   "language": "python",
   "name": "python3"
  },
  "language_info": {
   "codemirror_mode": {
    "name": "ipython",
    "version": 3
   },
   "file_extension": ".py",
   "mimetype": "text/x-python",
   "name": "python",
   "nbconvert_exporter": "python",
   "pygments_lexer": "ipython3",
   "version": "3.10.5"
  },
  "orig_nbformat": 4,
  "vscode": {
   "interpreter": {
    "hash": "c8d5dde865f82bd653c7725d111766f13bb8a99fe634eed82199ee6c50c94b13"
   }
  }
 },
 "nbformat": 4,
 "nbformat_minor": 2
}
