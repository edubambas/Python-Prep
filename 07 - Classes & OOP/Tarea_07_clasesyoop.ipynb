{
 "cells": [
  {
   "cell_type": "markdown",
   "metadata": {},
   "source": [
    "CLASES Y OOP"
   ]
  },
  {
   "cell_type": "markdown",
   "metadata": {},
   "source": [
    "1) Crear la clase vehículo que contenga los atributos:\n",
    "Color\n",
    "Si es moto, auto, camioneta ó camión\n",
    "Cilindrada del motor\n",
    "\n"
   ]
  },
  {
   "cell_type": "code",
   "execution_count": 6,
   "metadata": {},
   "outputs": [],
   "source": [
    "class vehiculo:\n",
    "    \"\"\"\n",
    "    Esta clase es un molde para vehículos que recibe tres atributos: color, tipo y cilindrada.\n",
    "    \"\"\"\n",
    "    def __init__(self,color,tipo,cilindrada):\n",
    "        self.color=color\n",
    "        self.tipo=tipo\n",
    "        self.cilindrada=cilindrada"
   ]
  },
  {
   "cell_type": "markdown",
   "metadata": {},
   "source": [
    "2) A la clase Vehiculo creada en el punto 1, agregar los siguientes métodos:\n",
    "Acelerar\n",
    "Frenar\n",
    "Doblar"
   ]
  },
  {
   "cell_type": "code",
   "execution_count": 7,
   "metadata": {},
   "outputs": [],
   "source": [
    "class vehiculo:\n",
    "    \"\"\"\n",
    "    Esta clase es un molde para vehículos que recibe tres atributos de propiedad: color, tipo y cilindrada.\n",
    "    Y tiene dos atributos de estado: velocidad y direccion.\n",
    "    \"\"\"\n",
    "    def __init__(self,color,tipo,cilindrada):\n",
    "        self.color=color\n",
    "        self.tipo=tipo\n",
    "        self.cilindrada=cilindrada\n",
    "        self.velocidad=0\n",
    "        self.direccion=0\n",
    "\n",
    "    #luego defino los metodos\n",
    "    def acelerar(self,vel):\n",
    "        self.velocidad+=vel\n",
    "    def frenar(self,vel):\n",
    "        self.velocidad-=vel\n",
    "    def doblar(self,grd):\n",
    "        self.direccion+=grd"
   ]
  },
  {
   "cell_type": "markdown",
   "metadata": {},
   "source": [
    "3) Instanciar 3 objetos de la clase vehículo y ejecutar sus métodos, probar luego el resultado"
   ]
  },
  {
   "cell_type": "code",
   "execution_count": 21,
   "metadata": {},
   "outputs": [],
   "source": [
    "fordk=vehiculo(\"negro\",\"auto\",1.0)\n",
    "hondabiz=vehiculo(\"rojo\",\"moto\",0.125)\n",
    "gt=vehiculo(\"blanco\",\"bicicleta\",0)"
   ]
  },
  {
   "cell_type": "code",
   "execution_count": 20,
   "metadata": {},
   "outputs": [
    {
     "name": "stdout",
     "output_type": "stream",
     "text": [
      "30 45\n"
     ]
    }
   ],
   "source": [
    "fordk.acelerar(50)\n",
    "fordk.frenar(20)\n",
    "fordk.doblar(45)\n",
    "print(fordk.velocidad, fordk.direccion)"
   ]
  },
  {
   "cell_type": "markdown",
   "metadata": {},
   "source": [
    "4) Agregar a la clase Vehiculo, un método que muestre su estado, es decir, a que velocidad se encuentra y su dirección. Y otro método que muestre color, tipo y cilindrada"
   ]
  },
  {
   "cell_type": "code",
   "execution_count": 26,
   "metadata": {},
   "outputs": [],
   "source": [
    "#defino la clase\n",
    "class vehiculo:\n",
    "    \"\"\"\n",
    "    Esta clase es un molde para vehículos que recibe tres atributos de propiedad: color, tipo y cilindrada.\n",
    "    Y tiene dos atributos de estado: velocidad y direccion.\n",
    "    \"\"\"\n",
    "    def __init__(self,color,tipo,cilindrada):\n",
    "        self.color=color\n",
    "        self.tipo=tipo\n",
    "        self.cilindrada=cilindrada\n",
    "        self.velocidad=0\n",
    "        self.direccion=0\n",
    "\n",
    "    #luego defino los metodos\n",
    "    def acelerar(self,vel):\n",
    "        self.velocidad+=vel\n",
    "    def frenar(self,vel):\n",
    "        self.velocidad-=vel\n",
    "    def doblar(self,grd):\n",
    "        self.direccion+=grd\n",
    "    def propiedades(self):\n",
    "        print(self.tipo, \" color \",self.color, \" de \",self.cilindrada, \" litros de cilindrada.\")\n",
    "    def estado(self):\n",
    "        print(\"se mueve a una velocidad de \",self.velocidad,\" km/h, a \",self.direccion, \" grados.\")\n",
    "\n",
    "#voy a instanciar algunos vehículos:\n",
    "fordk=vehiculo(\"negro\",\"auto\",1.0)\n",
    "hondabiz=vehiculo(\"rojo\",\"moto\",0.125)\n",
    "gt=vehiculo(\"blanco\",\"bicicleta\",0)"
   ]
  },
  {
   "cell_type": "code",
   "execution_count": 27,
   "metadata": {},
   "outputs": [
    {
     "name": "stdout",
     "output_type": "stream",
     "text": [
      "se mueve a una velocidad de  30  km/h, a  45  grados.\n",
      "auto  color  negro  de  1.0  litros de cilindrada.\n"
     ]
    }
   ],
   "source": [
    "#pruebo todos los métodos:\n",
    "fordk.acelerar(50)\n",
    "fordk.frenar(20)\n",
    "fordk.doblar(45)\n",
    "fordk.estado()\n",
    "fordk.propiedades()"
   ]
  },
  {
   "cell_type": "markdown",
   "metadata": {},
   "source": [
    "5) Crear una clase que permita utilizar las funciones creadas en la práctica del módulo 6\n",
    "Verificar Primo\n",
    "Valor modal\n",
    "Conversión grados\n",
    "Factorial"
   ]
  },
  {
   "cell_type": "code",
   "execution_count": 49,
   "metadata": {},
   "outputs": [],
   "source": [
    "#La pienso como una clase sin atributos de propiedad, es decir sin atributos para instanciar.\n",
    "#ya que recibe un número, ó una lista de numeros para aplicar los métodos sobre ellos.\n",
    "class calculadora:\n",
    "    def __init__(self):\n",
    "        pass\n",
    "        \n",
    "    def esprimo(self,n):\n",
    "        if (n==2 or n==3):\n",
    "            return True\n",
    "        for i in range(2,n//2+1):\n",
    "            if (n%i==0):\n",
    "                return False\n",
    "                break\n",
    "        return True\n",
    "\n",
    "    def moda(self,l,p):\n",
    "        \"\"\"\n",
    "        A esta función se la llama con una lista \"l\" como primer argumento y entrega el valor modal de la lista y su frecuencia.\n",
    "        De haber más de un valor modal, el segundo argumento \"p\" puede ser:\n",
    "                                                                            \"0\" y se devuelve la moda de menor valor.\n",
    "                                                                            \"1\" y se devuelve la moda de mayor valor.\n",
    "        \"\"\"  \n",
    "        frec=0\n",
    "        mf=[]\n",
    "        for i in l:\n",
    "            f=l.count(i)\n",
    "            if (f>frec):\n",
    "                frec=f\n",
    "            \n",
    "        for i in l:\n",
    "            f=l.count(i)\n",
    "            if (frec==f):\n",
    "                mf.append(i)\n",
    "        mf.sort()\n",
    "        L=len(mf)\n",
    "        if (p==1):\n",
    "            return mf[L-1],frec\n",
    "        elif (p==0):\n",
    "            return mf[0],frec\n",
    "\n",
    "    def convtemp(self,t,x,y):\n",
    "        \"\"\"\n",
    "        Esta función convierte el valor de temperatura \"t\" desde la unidad \"x\" a la unnidad \"y\".\n",
    "        Las unidades que maneja son Celcius, Farenheit ó Kelvin.\n",
    "        Las unidades se introducen en el argumento como strings \"c\", \"f\", ó \"k\".\n",
    "        \"\"\"\n",
    "        if (x==\"c\" and y==\"k\"):\n",
    "            return t+273.15\n",
    "        elif(x==\"k\" and y==\"c\"):\n",
    "            return t-273.15\n",
    "        elif(x==\"c\" and y==\"f\"):\n",
    "            return t*9/5+32\n",
    "        elif(x==\"f\" and y==\"c\"):\n",
    "            return (t-32)*5/9\n",
    "        elif(x==\"f\" and y==\"k\"):\n",
    "            return (t-32)*5/9+273.15\n",
    "        elif(x==\"k\" and y==\"f\"):\n",
    "            return (t-273.15)*9/5+32\n",
    "\n",
    "    def factorialR(self,n):\n",
    "        \"\"\"\n",
    "        A esta función devuelve el factorial de \"n\", siendo este un número natural.\n",
    "\n",
    "        El factorial de un número n puede expresarse como:\n",
    "        n!=n*(n-1)*(n-2)*...*(2)*(1)\n",
    "        \"\"\"\n",
    "        f=1\n",
    "        if (n==int(n) and n>=0): #Esto es para que la función me admita enteros de tipo flotante\n",
    "            n=int(n)  #convierto la entrada en caso de que sea un float\n",
    "            if (n==0):\n",
    "                return 1\n",
    "            else:\n",
    "                f=n*self.factorialR(n-1)  #detalle importante! el \"self.\" en la llamada recursiva\n",
    "                return f\n",
    "        else:\n",
    "            print(\"el argumento n de la función factorial(n) debe ser un número entero no negativo.\")\n",
    "\n",
    "\n",
    "\n",
    "#Y ya voy a dejar instanciado un objeto en esta clase. Lo voy a usar para poder acceder a los métodos.\n",
    "calc=calculadora()\n"
   ]
  },
  {
   "cell_type": "markdown",
   "metadata": {},
   "source": [
    "6) Probar las funciones incorporadas en la clase del punto 5"
   ]
  },
  {
   "cell_type": "code",
   "execution_count": 52,
   "metadata": {},
   "outputs": [
    {
     "name": "stdout",
     "output_type": "stream",
     "text": [
      "True (3, 3) 32.0 24\n"
     ]
    }
   ],
   "source": [
    "#y accedo al los métodos atrvés de mi objeto \"calc\" instanciado en la clase \"calculadora\":\n",
    "\n",
    "print(calc.esprimo(23),calc.moda([1,2,3,4,5,2,3,4,3],0),calc.convtemp(0,\"c\",\"f\"),calc.factorialR(4))"
   ]
  },
  {
   "cell_type": "markdown",
   "metadata": {},
   "source": [
    "7) Es necesario que la clase creada en el punto 5 contenga una lista, sobre la cual se aplquen las funciones incorporadas"
   ]
  },
  {
   "cell_type": "code",
   "execution_count": 79,
   "metadata": {},
   "outputs": [
    {
     "name": "stdout",
     "output_type": "stream",
     "text": [
      "[0, 1, 2, 3, 4, 5, 3, 4]\n"
     ]
    }
   ],
   "source": [
    "#Ahora cambia, porque si lo que va a entrar es una lista de números,puedo hacer que\n",
    "#las funciones factorial, esprimo y convtemp actúen sobre cada numero de la lista, mientras\n",
    "#que moda actuará sobre la lista en sí.\n",
    "#Entonces ahora sí puedo pensar a esta clase con un atributo para instanciar, es decir una lista.\n",
    "#o sea que cualquier objeto que yo quiera instancear en esta clase, tendrá que venir con una lista.\n",
    "\n",
    "\n",
    "class calculadora:\n",
    "    def __init__(self, lista):\n",
    "        self.lista=lista\n",
    "\n",
    "        #entonces ahora debo definir funciones para esprimo, factorial y convtemp que puedan\n",
    "        #recibir listas. Lo que hago es definir una funcion nueva para cada uno de los tres (que será\n",
    "        #llamada desde afuera). Esta función iterará la lista de entrada, y en cada iteración se\n",
    "        #llamará a la función interna \"__\" definida en el ejercicio 5)\n",
    "\n",
    "        #Como la función moda ya estaba preparada para recibir una lista, en este caso no voy a precisar\n",
    "        #una función interna \"__\".\n",
    "        \n",
    "    def esprimo(self):\n",
    "        listaprimos=[]\n",
    "        for i in self.lista:\n",
    "            if (self.__esprimo(i)==True):\n",
    "                listaprimos.append(i)\n",
    "        return listaprimos\n",
    "\n",
    "    def __esprimo(self,n):\n",
    "        if (n==2 or n==3):\n",
    "            return True\n",
    "        for i in range(2,n//2+1):\n",
    "            if (n%i==0):\n",
    "                return False\n",
    "                break\n",
    "        return True\n",
    "\n",
    "\n",
    "\n",
    "    def convtemp(self,x,y):\n",
    "        \"\"\"\n",
    "        Esta función convierte el valor de temperatura desde la unidad \"x\" a la unnidad \"y\".\n",
    "        Las unidades que maneja son Celcius, Farenheit ó Kelvin.\n",
    "        Las unidades se introducen en el argumento como strings \"c\", \"f\", ó \"k\".\n",
    "        \"\"\"\n",
    "        listatemperaturas=[]\n",
    "        for i in self.lista:\n",
    "            listatemperaturas.append(self.__convtemp(i,x,y))\n",
    "        return listatemperaturas\n",
    "\n",
    "    def __convtemp(self,t,x,y):\n",
    "        \"\"\"\n",
    "        Esta función convierte el valor de temperatura \"t\" desde la unidad \"x\" a la unnidad \"y\".\n",
    "        Las unidades que maneja son Celcius, Farenheit ó Kelvin.\n",
    "        Las unidades se introducen en el argumento como strings \"c\", \"f\", ó \"k\".\n",
    "        \"\"\"\n",
    "        if (x==\"c\" and y==\"k\"):\n",
    "            return t+273.15\n",
    "        elif(x==\"k\" and y==\"c\"):\n",
    "            return t-273.15\n",
    "        elif(x==\"c\" and y==\"f\"):\n",
    "            return t*9/5+32\n",
    "        elif(x==\"f\" and y==\"c\"):\n",
    "            return (t-32)*5/9\n",
    "        elif(x==\"f\" and y==\"k\"):\n",
    "            return (t-32)*5/9+273.15\n",
    "        elif(x==\"k\" and y==\"f\"):\n",
    "            return (t-273.15)*9/5+32\n",
    "\n",
    "\n",
    "\n",
    "    def factorial(self):\n",
    "        \"\"\"\n",
    "        Esta función devuelve el factorial de un número.\n",
    "\n",
    "        El factorial de un número n puede expresarse como:\n",
    "        n!=n*(n-1)*(n-2)*...*(2)*(1)\n",
    "        \"\"\"\n",
    "        listafactoriales=[]\n",
    "        for i in self.lista:\n",
    "            listafactoriales.append(self.__factorialR(i))\n",
    "        return listafactoriales\n",
    "    \n",
    "    def __factorialR(self,n):\n",
    "        \"\"\"\n",
    "        A esta función devuelve el factorial de \"n\", siendo este un número natural.\n",
    "\n",
    "        El factorial de un número n puede expresarse como:\n",
    "        n!=n*(n-1)*(n-2)*...*(2)*(1)\n",
    "        \"\"\"\n",
    "        f=1\n",
    "        if (n==int(n) and n>=0): #Esto es para que la función me admita enteros de tipo flotante\n",
    "            n=int(n)  #convierto la entrada en caso de que sea un float\n",
    "            if (n==0):\n",
    "                return 1\n",
    "            else:\n",
    "                f=n*self.__factorialR(n-1)  #detalle importante! el \"self.\" en la llamada recursiva\n",
    "                return f\n",
    "        else:\n",
    "            print(\"el argumento n de la función factorial(n) debe ser un número entero no negativo.\")\n",
    "\n",
    "\n",
    "\n",
    "    def moda(self,p):\n",
    "        \"\"\"\n",
    "        Esta función entrega el valor modal de una lista y su frecuencia.\n",
    "        De haber más de un valor modal, el argumento \"p\" debe ser:\n",
    "                                                                            \"0\" y se devuelve la moda de menor valor.\n",
    "                                                                            \"1\" y se devuelve la moda de mayor valor.\n",
    "        \"\"\"  \n",
    "        frec=0\n",
    "        mf=[]\n",
    "        for i in self.lista:\n",
    "            f=self.lista.count(i)\n",
    "            if (f>frec):\n",
    "                frec=f\n",
    "            \n",
    "        for i in self.lista:\n",
    "            f=self.lista.count(i)\n",
    "            if (frec==f):\n",
    "                mf.append(i)\n",
    "        mf.sort()\n",
    "        L=len(mf)\n",
    "        if (p==1):\n",
    "            return mf[L-1],frec\n",
    "        elif (p==0):\n",
    "            return mf[0],frec\n",
    "\n",
    "    \n",
    "    \n",
    "\n",
    "\n",
    "#Y ya voy a dejar instanciado un objeto en esta clase. Lo voy a usar para poder acceder a los métodos.\n",
    "objeto=calculadora([0,1,2,3,4,5,3,4])\n",
    "print(objeto.lista)"
   ]
  },
  {
   "cell_type": "code",
   "execution_count": 80,
   "metadata": {},
   "outputs": [
    {
     "data": {
      "text/plain": [
       "[0, 1, 2, 3, 5, 3]"
      ]
     },
     "execution_count": 80,
     "metadata": {},
     "output_type": "execute_result"
    }
   ],
   "source": [
    "objeto.esprimo()"
   ]
  },
  {
   "cell_type": "code",
   "execution_count": 81,
   "metadata": {},
   "outputs": [
    {
     "data": {
      "text/plain": [
       "[273.15, 274.15, 275.15, 276.15, 277.15, 278.15, 276.15, 277.15]"
      ]
     },
     "execution_count": 81,
     "metadata": {},
     "output_type": "execute_result"
    }
   ],
   "source": [
    "objeto.convtemp(\"c\",\"k\")"
   ]
  },
  {
   "cell_type": "code",
   "execution_count": 82,
   "metadata": {},
   "outputs": [
    {
     "data": {
      "text/plain": [
       "[1, 1, 2, 6, 24, 120, 6, 24]"
      ]
     },
     "execution_count": 82,
     "metadata": {},
     "output_type": "execute_result"
    }
   ],
   "source": [
    "objeto.factorial()"
   ]
  },
  {
   "cell_type": "code",
   "execution_count": 83,
   "metadata": {},
   "outputs": [
    {
     "data": {
      "text/plain": [
       "(3, 2)"
      ]
     },
     "execution_count": 83,
     "metadata": {},
     "output_type": "execute_result"
    }
   ],
   "source": [
    "objeto.moda(0)"
   ]
  },
  {
   "cell_type": "markdown",
   "metadata": {},
   "source": [
    "8) Crear un archivo .py aparte y ubicar allí la clase generada en el punto anterior. Luego realizar la importación del módulo y probar alguna de sus funciones"
   ]
  },
  {
   "cell_type": "code",
   "execution_count": null,
   "metadata": {},
   "outputs": [],
   "source": [
    "#Creé un archivo \"calcu.py\" donde está definida la clase con el nombre \"calculadorapto8\".\n",
    "#luego creé otro archivo \"pto8.py\" en donde importé a \"calcu.py\" y accedí a los métodos\n",
    "#de la clase calculadorapto8 y creé un \"objeto2\" en esta clase.\n",
    "#todos los archivos están en esta carpeta \"07-Classes &OOP\".\n",
    "\n"
   ]
  }
 ],
 "metadata": {
  "kernelspec": {
   "display_name": "Python 3.10.5 64-bit",
   "language": "python",
   "name": "python3"
  },
  "language_info": {
   "codemirror_mode": {
    "name": "ipython",
    "version": 3
   },
   "file_extension": ".py",
   "mimetype": "text/x-python",
   "name": "python",
   "nbconvert_exporter": "python",
   "pygments_lexer": "ipython3",
   "version": "3.10.5"
  },
  "orig_nbformat": 4,
  "vscode": {
   "interpreter": {
    "hash": "c8d5dde865f82bd653c7725d111766f13bb8a99fe634eed82199ee6c50c94b13"
   }
  }
 },
 "nbformat": 4,
 "nbformat_minor": 2
}
